{
 "cells": [
  {
   "cell_type": "markdown",
   "metadata": {},
   "source": [
    "Waste managerment using CNN Nodel"
   ]
  },
  {
   "cell_type": "code",
   "execution_count": 1,
   "metadata": {},
   "outputs": [
    {
     "name": "stdout",
     "output_type": "stream",
     "text": [
      "Collecting opencv-python\n",
      "  Downloading opencv_python-4.11.0.86-cp37-abi3-win_amd64.whl.metadata (20 kB)\n",
      "Requirement already satisfied: numpy>=1.21.2 in c:\\users\\sumit\\lib\\site-packages (from opencv-python) (2.0.2)\n",
      "Downloading opencv_python-4.11.0.86-cp37-abi3-win_amd64.whl (39.5 MB)\n",
      "   ---------------------------------------- 0.0/39.5 MB ? eta -:--:--\n",
      "   ---------------------------------------- 0.0/39.5 MB ? eta -:--:--\n",
      "   ---------------------------------------- 0.0/39.5 MB ? eta -:--:--\n",
      "   ---------------------------------------- 0.3/39.5 MB ? eta -:--:--\n",
      "    --------------------------------------- 0.5/39.5 MB 1.2 MB/s eta 0:00:33\n",
      "    --------------------------------------- 0.5/39.5 MB 1.2 MB/s eta 0:00:33\n",
      "    --------------------------------------- 0.5/39.5 MB 1.2 MB/s eta 0:00:33\n",
      "    --------------------------------------- 0.8/39.5 MB 645.7 kB/s eta 0:01:00\n",
      "    --------------------------------------- 0.8/39.5 MB 645.7 kB/s eta 0:01:00\n",
      "   - -------------------------------------- 1.3/39.5 MB 818.6 kB/s eta 0:00:47\n",
      "   - -------------------------------------- 1.6/39.5 MB 953.2 kB/s eta 0:00:40\n",
      "   - -------------------------------------- 1.6/39.5 MB 953.2 kB/s eta 0:00:40\n",
      "   - -------------------------------------- 1.8/39.5 MB 898.8 kB/s eta 0:00:42\n",
      "   -- ------------------------------------- 2.1/39.5 MB 896.4 kB/s eta 0:00:42\n",
      "   -- ------------------------------------- 2.4/39.5 MB 907.1 kB/s eta 0:00:41\n",
      "   -- ------------------------------------- 2.6/39.5 MB 915.2 kB/s eta 0:00:41\n",
      "   -- ------------------------------------- 2.9/39.5 MB 969.8 kB/s eta 0:00:38\n",
      "   --- ------------------------------------ 3.7/39.5 MB 1.2 MB/s eta 0:00:31\n",
      "   ---- ----------------------------------- 4.5/39.5 MB 1.3 MB/s eta 0:00:27\n",
      "   ---- ----------------------------------- 4.5/39.5 MB 1.3 MB/s eta 0:00:27\n",
      "   ---- ----------------------------------- 4.7/39.5 MB 1.3 MB/s eta 0:00:27\n",
      "   ----- ---------------------------------- 5.0/39.5 MB 1.3 MB/s eta 0:00:28\n",
      "   ----- ---------------------------------- 5.0/39.5 MB 1.3 MB/s eta 0:00:28\n",
      "   ----- ---------------------------------- 5.2/39.5 MB 1.2 MB/s eta 0:00:29\n",
      "   ----- ---------------------------------- 5.2/39.5 MB 1.2 MB/s eta 0:00:29\n",
      "   ----- ---------------------------------- 5.5/39.5 MB 1.2 MB/s eta 0:00:30\n",
      "   ----- ---------------------------------- 5.5/39.5 MB 1.2 MB/s eta 0:00:30\n",
      "   ----- ---------------------------------- 5.8/39.5 MB 1.1 MB/s eta 0:00:30\n",
      "   ------ --------------------------------- 6.0/39.5 MB 1.1 MB/s eta 0:00:30\n",
      "   ------ --------------------------------- 6.3/39.5 MB 1.1 MB/s eta 0:00:29\n",
      "   ------ --------------------------------- 6.6/39.5 MB 1.1 MB/s eta 0:00:29\n",
      "   ------ --------------------------------- 6.8/39.5 MB 1.1 MB/s eta 0:00:29\n",
      "   ------- -------------------------------- 7.3/39.5 MB 1.2 MB/s eta 0:00:28\n",
      "   ------- -------------------------------- 7.3/39.5 MB 1.2 MB/s eta 0:00:28\n",
      "   ------- -------------------------------- 7.3/39.5 MB 1.2 MB/s eta 0:00:28\n",
      "   ------- -------------------------------- 7.3/39.5 MB 1.2 MB/s eta 0:00:28\n",
      "   ------- -------------------------------- 7.6/39.5 MB 1.1 MB/s eta 0:00:30\n",
      "   ------- -------------------------------- 7.6/39.5 MB 1.1 MB/s eta 0:00:30\n",
      "   ------- -------------------------------- 7.9/39.5 MB 1.0 MB/s eta 0:00:31\n",
      "   ------- -------------------------------- 7.9/39.5 MB 1.0 MB/s eta 0:00:31\n",
      "   -------- ------------------------------- 8.1/39.5 MB 1.0 MB/s eta 0:00:31\n",
      "   -------- ------------------------------- 8.4/39.5 MB 1.0 MB/s eta 0:00:31\n",
      "   -------- ------------------------------- 8.4/39.5 MB 1.0 MB/s eta 0:00:31\n",
      "   -------- ------------------------------- 8.7/39.5 MB 1.0 MB/s eta 0:00:31\n",
      "   --------- ------------------------------ 9.4/39.5 MB 1.1 MB/s eta 0:00:28\n",
      "   --------- ------------------------------ 9.4/39.5 MB 1.1 MB/s eta 0:00:28\n",
      "   --------- ------------------------------ 9.4/39.5 MB 1.1 MB/s eta 0:00:28\n",
      "   --------- ------------------------------ 9.7/39.5 MB 1.1 MB/s eta 0:00:29\n",
      "   ---------- ----------------------------- 10.0/39.5 MB 1.1 MB/s eta 0:00:29\n",
      "   ----------- ---------------------------- 11.3/39.5 MB 1.2 MB/s eta 0:00:25\n",
      "   ----------- ---------------------------- 11.3/39.5 MB 1.2 MB/s eta 0:00:25\n",
      "   ----------- ---------------------------- 11.5/39.5 MB 1.2 MB/s eta 0:00:25\n",
      "   ----------- ---------------------------- 11.8/39.5 MB 1.1 MB/s eta 0:00:25\n",
      "   ----------- ---------------------------- 11.8/39.5 MB 1.1 MB/s eta 0:00:25\n",
      "   ------------ --------------------------- 12.1/39.5 MB 1.1 MB/s eta 0:00:25\n",
      "   ------------ --------------------------- 12.6/39.5 MB 1.1 MB/s eta 0:00:24\n",
      "   ------------- -------------------------- 13.1/39.5 MB 1.2 MB/s eta 0:00:23\n",
      "   ------------- -------------------------- 13.1/39.5 MB 1.2 MB/s eta 0:00:23\n",
      "   ------------- -------------------------- 13.1/39.5 MB 1.2 MB/s eta 0:00:23\n",
      "   ------------- -------------------------- 13.4/39.5 MB 1.1 MB/s eta 0:00:23\n",
      "   ------------- -------------------------- 13.6/39.5 MB 1.1 MB/s eta 0:00:23\n",
      "   ------------- -------------------------- 13.6/39.5 MB 1.1 MB/s eta 0:00:23\n",
      "   ------------- -------------------------- 13.6/39.5 MB 1.1 MB/s eta 0:00:23\n",
      "   -------------- ------------------------- 14.4/39.5 MB 1.1 MB/s eta 0:00:22\n",
      "   --------------- ------------------------ 14.9/39.5 MB 1.2 MB/s eta 0:00:22\n",
      "   --------------- ------------------------ 15.2/39.5 MB 1.2 MB/s eta 0:00:21\n",
      "   --------------- ------------------------ 15.2/39.5 MB 1.2 MB/s eta 0:00:21\n",
      "   --------------- ------------------------ 15.5/39.5 MB 1.2 MB/s eta 0:00:21\n",
      "   --------------- ------------------------ 15.7/39.5 MB 1.2 MB/s eta 0:00:21\n",
      "   --------------- ------------------------ 15.7/39.5 MB 1.2 MB/s eta 0:00:21\n",
      "   ---------------- ----------------------- 16.0/39.5 MB 1.1 MB/s eta 0:00:21\n",
      "   ---------------- ----------------------- 16.3/39.5 MB 1.2 MB/s eta 0:00:21\n",
      "   ---------------- ----------------------- 16.8/39.5 MB 1.2 MB/s eta 0:00:20\n",
      "   ---------------- ----------------------- 16.8/39.5 MB 1.2 MB/s eta 0:00:20\n",
      "   ----------------- ---------------------- 17.0/39.5 MB 1.1 MB/s eta 0:00:20\n",
      "   ----------------- ---------------------- 17.3/39.5 MB 1.1 MB/s eta 0:00:20\n",
      "   ----------------- ---------------------- 17.6/39.5 MB 1.1 MB/s eta 0:00:20\n",
      "   ----------------- ---------------------- 17.6/39.5 MB 1.1 MB/s eta 0:00:20\n",
      "   ------------------ --------------------- 18.1/39.5 MB 1.2 MB/s eta 0:00:19\n",
      "   ------------------ --------------------- 18.4/39.5 MB 1.2 MB/s eta 0:00:19\n",
      "   ------------------ --------------------- 18.6/39.5 MB 1.2 MB/s eta 0:00:19\n",
      "   ------------------ --------------------- 18.6/39.5 MB 1.2 MB/s eta 0:00:19\n",
      "   ------------------- -------------------- 18.9/39.5 MB 1.1 MB/s eta 0:00:18\n",
      "   ------------------- -------------------- 19.1/39.5 MB 1.1 MB/s eta 0:00:18\n",
      "   ------------------- -------------------- 19.1/39.5 MB 1.1 MB/s eta 0:00:18\n",
      "   ------------------- -------------------- 19.4/39.5 MB 1.1 MB/s eta 0:00:18\n",
      "   ------------------- -------------------- 19.4/39.5 MB 1.1 MB/s eta 0:00:18\n",
      "   -------------------- ------------------- 20.2/39.5 MB 1.2 MB/s eta 0:00:17\n",
      "   -------------------- ------------------- 20.2/39.5 MB 1.2 MB/s eta 0:00:17\n",
      "   -------------------- ------------------- 20.4/39.5 MB 1.1 MB/s eta 0:00:17\n",
      "   --------------------- ------------------ 21.2/39.5 MB 1.2 MB/s eta 0:00:16\n",
      "   ---------------------- ----------------- 21.8/39.5 MB 1.2 MB/s eta 0:00:15\n",
      "   ---------------------- ----------------- 22.0/39.5 MB 1.2 MB/s eta 0:00:15\n",
      "   ---------------------- ----------------- 22.3/39.5 MB 1.2 MB/s eta 0:00:15\n",
      "   ----------------------- ---------------- 23.1/39.5 MB 1.2 MB/s eta 0:00:14\n",
      "   ------------------------ --------------- 23.9/39.5 MB 1.2 MB/s eta 0:00:13\n",
      "   ------------------------ --------------- 24.4/39.5 MB 1.3 MB/s eta 0:00:12\n",
      "   ------------------------ --------------- 24.4/39.5 MB 1.3 MB/s eta 0:00:12\n",
      "   ------------------------ --------------- 24.6/39.5 MB 1.3 MB/s eta 0:00:12\n",
      "   ------------------------- -------------- 24.9/39.5 MB 1.2 MB/s eta 0:00:12\n",
      "   ------------------------- -------------- 24.9/39.5 MB 1.2 MB/s eta 0:00:12\n",
      "   ------------------------- -------------- 24.9/39.5 MB 1.2 MB/s eta 0:00:12\n",
      "   ------------------------- -------------- 25.2/39.5 MB 1.2 MB/s eta 0:00:12\n",
      "   ------------------------- -------------- 25.4/39.5 MB 1.2 MB/s eta 0:00:12\n",
      "   ------------------------- -------------- 25.4/39.5 MB 1.2 MB/s eta 0:00:12\n",
      "   -------------------------- ------------- 25.7/39.5 MB 1.2 MB/s eta 0:00:12\n",
      "   -------------------------- ------------- 26.0/39.5 MB 1.2 MB/s eta 0:00:12\n",
      "   -------------------------- ------------- 26.2/39.5 MB 1.2 MB/s eta 0:00:11\n",
      "   -------------------------- ------------- 26.5/39.5 MB 1.2 MB/s eta 0:00:11\n",
      "   -------------------------- ------------- 26.5/39.5 MB 1.2 MB/s eta 0:00:11\n",
      "   --------------------------- ------------ 26.7/39.5 MB 1.2 MB/s eta 0:00:11\n",
      "   --------------------------- ------------ 26.7/39.5 MB 1.2 MB/s eta 0:00:11\n",
      "   --------------------------- ------------ 27.0/39.5 MB 1.2 MB/s eta 0:00:11\n",
      "   --------------------------- ------------ 27.5/39.5 MB 1.2 MB/s eta 0:00:10\n",
      "   ---------------------------- ----------- 27.8/39.5 MB 1.2 MB/s eta 0:00:10\n",
      "   ---------------------------- ----------- 27.8/39.5 MB 1.2 MB/s eta 0:00:10\n",
      "   ---------------------------- ----------- 27.8/39.5 MB 1.2 MB/s eta 0:00:10\n",
      "   ---------------------------- ----------- 27.8/39.5 MB 1.2 MB/s eta 0:00:10\n",
      "   ---------------------------- ----------- 28.3/39.5 MB 1.2 MB/s eta 0:00:10\n",
      "   ---------------------------- ----------- 28.3/39.5 MB 1.2 MB/s eta 0:00:10\n",
      "   ---------------------------- ----------- 28.6/39.5 MB 1.2 MB/s eta 0:00:10\n",
      "   ----------------------------- ---------- 28.8/39.5 MB 1.2 MB/s eta 0:00:10\n",
      "   ----------------------------- ---------- 28.8/39.5 MB 1.2 MB/s eta 0:00:10\n",
      "   ----------------------------- ---------- 29.1/39.5 MB 1.2 MB/s eta 0:00:09\n",
      "   ----------------------------- ---------- 29.4/39.5 MB 1.2 MB/s eta 0:00:09\n",
      "   ------------------------------ --------- 29.9/39.5 MB 1.2 MB/s eta 0:00:09\n",
      "   ------------------------------ --------- 29.9/39.5 MB 1.2 MB/s eta 0:00:09\n",
      "   ------------------------------ --------- 29.9/39.5 MB 1.2 MB/s eta 0:00:09\n",
      "   ------------------------------ --------- 29.9/39.5 MB 1.2 MB/s eta 0:00:09\n",
      "   ------------------------------ --------- 30.1/39.5 MB 1.2 MB/s eta 0:00:09\n",
      "   ------------------------------ --------- 30.1/39.5 MB 1.2 MB/s eta 0:00:09\n",
      "   ------------------------------- -------- 30.7/39.5 MB 1.2 MB/s eta 0:00:08\n",
      "   ------------------------------- -------- 30.9/39.5 MB 1.2 MB/s eta 0:00:08\n",
      "   ------------------------------- -------- 30.9/39.5 MB 1.2 MB/s eta 0:00:08\n",
      "   ------------------------------- -------- 30.9/39.5 MB 1.2 MB/s eta 0:00:08\n",
      "   ------------------------------- -------- 31.2/39.5 MB 1.1 MB/s eta 0:00:08\n",
      "   ------------------------------- -------- 31.5/39.5 MB 1.1 MB/s eta 0:00:08\n",
      "   -------------------------------- ------- 31.7/39.5 MB 1.1 MB/s eta 0:00:07\n",
      "   -------------------------------- ------- 32.0/39.5 MB 1.1 MB/s eta 0:00:07\n",
      "   -------------------------------- ------- 32.0/39.5 MB 1.1 MB/s eta 0:00:07\n",
      "   -------------------------------- ------- 32.2/39.5 MB 1.1 MB/s eta 0:00:07\n",
      "   --------------------------------- ------ 32.8/39.5 MB 1.1 MB/s eta 0:00:06\n",
      "   --------------------------------- ------ 32.8/39.5 MB 1.1 MB/s eta 0:00:06\n",
      "   --------------------------------- ------ 32.8/39.5 MB 1.1 MB/s eta 0:00:06\n",
      "   --------------------------------- ------ 33.0/39.5 MB 1.1 MB/s eta 0:00:06\n",
      "   --------------------------------- ------ 33.3/39.5 MB 1.1 MB/s eta 0:00:06\n",
      "   --------------------------------- ------ 33.3/39.5 MB 1.1 MB/s eta 0:00:06\n",
      "   --------------------------------- ------ 33.3/39.5 MB 1.1 MB/s eta 0:00:06\n",
      "   --------------------------------- ------ 33.6/39.5 MB 1.1 MB/s eta 0:00:06\n",
      "   ---------------------------------- ----- 33.8/39.5 MB 1.1 MB/s eta 0:00:06\n",
      "   ---------------------------------- ----- 33.8/39.5 MB 1.1 MB/s eta 0:00:06\n",
      "   ---------------------------------- ----- 33.8/39.5 MB 1.1 MB/s eta 0:00:06\n",
      "   ----------------------------------- ---- 34.6/39.5 MB 1.1 MB/s eta 0:00:05\n",
      "   ----------------------------------- ---- 35.1/39.5 MB 1.1 MB/s eta 0:00:04\n",
      "   ----------------------------------- ---- 35.1/39.5 MB 1.1 MB/s eta 0:00:04\n",
      "   ----------------------------------- ---- 35.4/39.5 MB 1.1 MB/s eta 0:00:04\n",
      "   ------------------------------------ --- 35.7/39.5 MB 1.1 MB/s eta 0:00:04\n",
      "   ------------------------------------ --- 35.7/39.5 MB 1.1 MB/s eta 0:00:04\n",
      "   ------------------------------------ --- 35.9/39.5 MB 1.1 MB/s eta 0:00:04\n",
      "   ------------------------------------ --- 36.2/39.5 MB 1.1 MB/s eta 0:00:03\n",
      "   ------------------------------------- -- 37.0/39.5 MB 1.2 MB/s eta 0:00:03\n",
      "   -------------------------------------- - 37.7/39.5 MB 1.2 MB/s eta 0:00:02\n",
      "   -------------------------------------- - 37.7/39.5 MB 1.2 MB/s eta 0:00:02\n",
      "   -------------------------------------- - 38.0/39.5 MB 1.1 MB/s eta 0:00:02\n",
      "   -------------------------------------- - 38.3/39.5 MB 1.1 MB/s eta 0:00:02\n",
      "   ---------------------------------------  38.5/39.5 MB 1.1 MB/s eta 0:00:01\n",
      "   ---------------------------------------  38.8/39.5 MB 1.1 MB/s eta 0:00:01\n",
      "   ---------------------------------------- 39.5/39.5 MB 1.2 MB/s eta 0:00:00\n",
      "Installing collected packages: opencv-python\n",
      "Successfully installed opencv-python-4.11.0.86\n",
      "Note: you may need to restart the kernel to use updated packages.\n"
     ]
    }
   ],
   "source": [
    "pip install opencv-python"
   ]
  },
  {
   "cell_type": "markdown",
   "metadata": {},
   "source": [
    "Libraries required"
   ]
  },
  {
   "cell_type": "code",
   "execution_count": 8,
   "metadata": {},
   "outputs": [],
   "source": [
    "import numpy as np\n",
    "import pandas as pd\n",
    "import matplotlib.pyplot as plt\n",
    "import cv2\n",
    "from tqdm import tqdm\n",
    "import warnings\n",
    "warnings.filterwarnings('ignore')"
   ]
  },
  {
   "cell_type": "code",
   "execution_count": 2,
   "metadata": {},
   "outputs": [],
   "source": [
    "train_path = \"DATASET/DATASET/TRAIN\"\n",
    "test_path = \"DATASET/DATASET/TEST\""
   ]
  },
  {
   "cell_type": "code",
   "execution_count": 4,
   "metadata": {},
   "outputs": [],
   "source": [
    "from tensorflow.keras.models import Sequential\n",
    "from tensorflow.keras.layers import Conv2D,MaxPooling2D,Activation,Dropout,Flatten,Dense,BatchNormalization\n",
    "from tensorflow.keras.preprocessing.image import ImageDataGenerator,img_to_array,load_img\n",
    "from tensorflow.keras.utils import plot_model\n",
    "from glob import glob"
   ]
  },
  {
   "cell_type": "code",
   "execution_count": 9,
   "metadata": {},
   "outputs": [
    {
     "name": "stderr",
     "output_type": "stream",
     "text": [
      "100%|██████████| 12565/12565 [01:21<00:00, 153.61it/s]\n",
      "100%|██████████| 9999/9999 [01:05<00:00, 152.13it/s]\n"
     ]
    }
   ],
   "source": [
    "#Visualization\n",
    "x_data =[]\n",
    "y_data =[]\n",
    "for category in glob(train_path+\"/*\"):\n",
    "    for file in tqdm(glob(category+\"/*\")):\n",
    "        img_array = cv2.imread(file)\n",
    "        img_array = cv2.cvtColor(img_array,cv2.COLOR_BGR2RGB)\n",
    "        x_data.append(img_array)\n",
    "        y_data.append(category.split('/')[-1])\n",
    "data = pd.DataFrame({'image':x_data,\"label\":y_data})"
   ]
  },
  {
   "cell_type": "code",
   "execution_count": 12,
   "metadata": {},
   "outputs": [
    {
     "data": {
      "text/plain": [
       "image    object\n",
       "label    object\n",
       "dtype: object"
      ]
     },
     "execution_count": 12,
     "metadata": {},
     "output_type": "execute_result"
    }
   ],
   "source": [
    "data.shape\n",
    "data.dtypes"
   ]
  },
  {
   "cell_type": "code",
   "execution_count": 19,
   "metadata": {},
   "outputs": [
    {
     "data": {
      "image/png": "[encoded data removed]",
      "text/plain": [
       "<Figure size 800x600 with 1 Axes>"
      ]
     },
     "metadata": {},
     "output_type": "display_data"
    }
   ],
   "source": [
    "if len(value_counts) == 2:\n",
    "    labels = value_counts.index.tolist()  \n",
    "    counts = value_counts.values.tolist()  \n",
    "\n",
    "   \n",
    "    colors = [\"#73c6b6\", \"#dc7633\"]\n",
    "    explode = [0.1 if count == max(counts) else 0.05 for count in counts]  \n",
    "\n",
    "    \n",
    "    fig, ax = plt.subplots(figsize=(8, 6))\n",
    "    wedges, texts, autotexts = ax.pie(\n",
    "        counts,\n",
    "        labels=labels,\n",
    "        autopct=\"%0.2f%%\",\n",
    "        colors=colors,\n",
    "        startangle=90,\n",
    "        explode=explode,\n",
    "        shadow=True,\n",
    "        textprops={'color': \"w\"},\n",
    "    )\n",
    "    \n",
    "    ax.legend(wedges, labels, title=\"Categories\", loc=\"center left\", bbox_to_anchor=(1, 0, 0.5, 1))\n",
    "    plt.setp(autotexts, size=12, weight=\"bold\")\n",
    "    plt.title(\"Distribution of Categories\", fontsize=16, weight=\"bold\")\n",
    "    plt.show()\n",
    "\n",
    "else:\n",
    "    print(f\"Error: The data doesn't contain exactly two categories. Found {len(value_counts)} categories.\")"
   ]
  }
 ],
 "metadata": {
  "kernelspec": {
   "display_name": "Python 3",
   "language": "python",
   "name": "python3"
  },
  "language_info": {
   "codemirror_mode": {
    "name": "ipython",
    "version": 3
   },
   "file_extension": ".py",
   "mimetype": "text/x-python",
   "name": "python",
   "nbconvert_exporter": "python",
   "pygments_lexer": "ipython3",
   "version": "3.12.8"
  }
 },
 "nbformat": 4,
 "nbformat_minor": 2
}
